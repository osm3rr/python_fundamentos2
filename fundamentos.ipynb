{
 "cells": [
  {
   "cell_type": "markdown",
   "id": "ef2e0ead",
   "metadata": {},
   "source": [
    "### Fundamentos de python\n",
    "* Variables\n",
    "* Operadores matemáticos\n",
    "* Operadores lógicos\n",
    "* Operadores de comparación\n",
    "* Condicionales\n",
    "    - Simples\n",
    "    - Compuestos\n",
    "    - Anidados\n",
    "    - Encadenados\n",
    "* Ciclos\n",
    "    - Finitos (for)\n",
    "    - Infinitos (while)\n",
    "* Funciones\n",
    "* Estructuras de datos\n",
    "    - Caracteres\n",
    "    - Enteros\n",
    "    - Flotantes\n",
    "    - Listas\n",
    "    - Diccionarios\n",
    "    - Tuplas\n",
    "* Fundamentos de POO"
   ]
  },
  {
   "cell_type": "code",
   "execution_count": 1,
   "id": "8ced45d4",
   "metadata": {},
   "outputs": [
    {
     "name": "stdout",
     "output_type": "stream",
     "text": [
      "Epale\n"
     ]
    }
   ],
   "source": [
    "print(\"Epale\")"
   ]
  },
  {
   "cell_type": "code",
   "execution_count": null,
   "id": "6db751b2",
   "metadata": {},
   "outputs": [],
   "source": [
    "# variables\n",
    "name = \"Javier\""
   ]
  },
  {
   "cell_type": "code",
   "execution_count": 3,
   "id": "cdea9bc5",
   "metadata": {},
   "outputs": [
    {
     "data": {
      "text/plain": [
       "'Javier'"
      ]
     },
     "execution_count": 3,
     "metadata": {},
     "output_type": "execute_result"
    }
   ],
   "source": [
    "name"
   ]
  },
  {
   "cell_type": "code",
   "execution_count": 5,
   "id": "9cd7c0f5",
   "metadata": {},
   "outputs": [],
   "source": [
    "last_name = \"Gonzalez\""
   ]
  },
  {
   "cell_type": "code",
   "execution_count": 6,
   "id": "e64a0afe",
   "metadata": {},
   "outputs": [],
   "source": [
    "LastName = \"Primero\""
   ]
  },
  {
   "cell_type": "code",
   "execution_count": 7,
   "id": "c31cb7be",
   "metadata": {},
   "outputs": [],
   "source": [
    "Name = \"Segundo\""
   ]
  },
  {
   "cell_type": "code",
   "execution_count": 8,
   "id": "34f885e9",
   "metadata": {},
   "outputs": [],
   "source": [
    "NAME = \"Tercero\""
   ]
  },
  {
   "cell_type": "code",
   "execution_count": 9,
   "id": "df840f17",
   "metadata": {},
   "outputs": [
    {
     "ename": "SyntaxError",
     "evalue": "cannot assign to expression here. Maybe you meant '==' instead of '='? (906108882.py, line 1)",
     "output_type": "error",
     "traceback": [
      "\u001b[1;36m  Cell \u001b[1;32mIn[9], line 1\u001b[1;36m\u001b[0m\n\u001b[1;33m    last-name = \"primero\"\u001b[0m\n\u001b[1;37m    ^\u001b[0m\n\u001b[1;31mSyntaxError\u001b[0m\u001b[1;31m:\u001b[0m cannot assign to expression here. Maybe you meant '==' instead of '='?\n"
     ]
    }
   ],
   "source": [
    "last-name = \"primero\""
   ]
  },
  {
   "cell_type": "code",
   "execution_count": 10,
   "id": "1d183f6e",
   "metadata": {},
   "outputs": [
    {
     "ename": "NameError",
     "evalue": "name 'last' is not defined",
     "output_type": "error",
     "traceback": [
      "\u001b[1;31m---------------------------------------------------------------------------\u001b[0m",
      "\u001b[1;31mNameError\u001b[0m                                 Traceback (most recent call last)",
      "Cell \u001b[1;32mIn[10], line 1\u001b[0m\n\u001b[1;32m----> 1\u001b[0m \u001b[43mlast\u001b[49m\u001b[38;5;241m.\u001b[39mname \u001b[38;5;241m=\u001b[39m \u001b[38;5;124m\"\u001b[39m\u001b[38;5;124mprimero\u001b[39m\u001b[38;5;124m\"\u001b[39m\n",
      "\u001b[1;31mNameError\u001b[0m: name 'last' is not defined"
     ]
    }
   ],
   "source": [
    "last.name = \"primero\""
   ]
  },
  {
   "cell_type": "code",
   "execution_count": 11,
   "id": "be9d743b",
   "metadata": {},
   "outputs": [],
   "source": [
    "qwhqwohedqow = 12"
   ]
  },
  {
   "cell_type": "code",
   "execution_count": null,
   "id": "eb3d14d9",
   "metadata": {},
   "outputs": [],
   "source": [
    "fuerza = 12\n",
    "masa = 13\n",
    "acelaratio = 14\n",
    "gravedad = 9.8"
   ]
  },
  {
   "cell_type": "code",
   "execution_count": 12,
   "id": "ad05a2f8",
   "metadata": {},
   "outputs": [
    {
     "data": {
      "text/plain": [
       "'Javier'"
      ]
     },
     "execution_count": 12,
     "metadata": {},
     "output_type": "execute_result"
    }
   ],
   "source": [
    "name"
   ]
  },
  {
   "cell_type": "code",
   "execution_count": 13,
   "id": "b701e62d",
   "metadata": {},
   "outputs": [],
   "source": [
    "# operadores matematicos\n",
    "suma = 2 + 2\n",
    "resta = 2 - 2\n",
    "multiplicacion = 2 * 2\n",
    "division = 2 / 2\n"
   ]
  },
  {
   "cell_type": "code",
   "execution_count": 19,
   "id": "142b8539",
   "metadata": {},
   "outputs": [],
   "source": [
    "number1 = 12\n",
    "number2 = 20.33"
   ]
  },
  {
   "cell_type": "code",
   "execution_count": 20,
   "id": "e3b59152",
   "metadata": {},
   "outputs": [],
   "source": [
    "suma = number1 + number2\n",
    "resta = number1 - number2\n",
    "multiplicacion = number1 * number2\n",
    "division = number1 / number2"
   ]
  },
  {
   "cell_type": "code",
   "execution_count": 21,
   "id": "91fbdcad",
   "metadata": {},
   "outputs": [
    {
     "name": "stdout",
     "output_type": "stream",
     "text": [
      "32.33\n",
      "-8.329999999999998\n"
     ]
    }
   ],
   "source": [
    "print(suma) \n",
    "print(resta)"
   ]
  },
  {
   "cell_type": "code",
   "execution_count": 26,
   "id": "58131e04",
   "metadata": {},
   "outputs": [
    {
     "name": "stdout",
     "output_type": "stream",
     "text": [
      "El resultado de la suma es: 32.33\n",
      "resta: -8.329999999999998\n",
      "multiplicacion: 243.95999999999998\n",
      "division: 0.5902606984751599\n"
     ]
    }
   ],
   "source": [
    "print(f\"El resultado de la suma es: {suma}\") \n",
    "print(f\"resta: {resta}\")\n",
    "print(f\"multiplicacion: {multiplicacion}\")\n",
    "print(f\"division: {division}\")"
   ]
  },
  {
   "cell_type": "code",
   "execution_count": null,
   "id": "0b74368d",
   "metadata": {},
   "outputs": [],
   "source": [
    "# operadores de comparacion\n",
    "# igual a ==\n",
    "# mayor que >\n",
    "# menor que <\n",
    "# mayor o igual que >=\n",
    "# menor o igual que <=\n",
    "# diferente !=\n"
   ]
  },
  {
   "cell_type": "code",
   "execution_count": 27,
   "id": "9dac2bc0",
   "metadata": {},
   "outputs": [
    {
     "data": {
      "text/plain": [
       "True"
      ]
     },
     "execution_count": 27,
     "metadata": {},
     "output_type": "execute_result"
    }
   ],
   "source": [
    "3 > 2"
   ]
  },
  {
   "cell_type": "code",
   "execution_count": 28,
   "id": "08e74fdb",
   "metadata": {},
   "outputs": [
    {
     "data": {
      "text/plain": [
       "False"
      ]
     },
     "execution_count": 28,
     "metadata": {},
     "output_type": "execute_result"
    }
   ],
   "source": [
    "3 != 3"
   ]
  },
  {
   "cell_type": "code",
   "execution_count": 29,
   "id": "fbc9e4f4",
   "metadata": {},
   "outputs": [
    {
     "data": {
      "text/plain": [
       "False"
      ]
     },
     "execution_count": 29,
     "metadata": {},
     "output_type": "execute_result"
    }
   ],
   "source": [
    "number1 == number2"
   ]
  },
  {
   "cell_type": "code",
   "execution_count": null,
   "id": "cd7c7369",
   "metadata": {},
   "outputs": [],
   "source": []
  },
  {
   "cell_type": "code",
   "execution_count": null,
   "id": "10dbc4ad",
   "metadata": {},
   "outputs": [
    {
     "name": "stdout",
     "output_type": "stream",
     "text": [
      "12\n",
      "20.33\n",
      "number1 es menor que number2\n"
     ]
    }
   ],
   "source": [
    "# condicionales\n",
    "print(number1)\n",
    "print(number2)\n",
    "\n",
    "if number1 < number2:\n",
    "    print(\"number1 es menor que number2\")"
   ]
  },
  {
   "cell_type": "code",
   "execution_count": null,
   "id": "b97c8993",
   "metadata": {},
   "outputs": [
    {
     "name": "stdout",
     "output_type": "stream",
     "text": [
      "12\n",
      "20.33\n",
      "Number1 no es mayor que number2\n"
     ]
    }
   ],
   "source": [
    "# condicionales\n",
    "print(number1)\n",
    "print(number2)\n",
    "\n",
    "if number1 > number2:\n",
    "    print(\"number1 es mayor que number2\")\n",
    "else:\n",
    "    print(\"Number1 no es mayor que number2\")"
   ]
  },
  {
   "cell_type": "code",
   "execution_count": 44,
   "id": "c2a7d768",
   "metadata": {},
   "outputs": [
    {
     "name": "stdout",
     "output_type": "stream",
     "text": [
      "number1 es mayor que number2\n"
     ]
    }
   ],
   "source": [
    "# condicionales\n",
    "number1 = 14\n",
    "number2 = 12\n",
    "\n",
    "if number1 > number2:\n",
    "    print(\"number1 es mayor que number2\")\n",
    "\n",
    "elif number1 < number2:\n",
    "    print(\"number1 es menor que number2\")\n",
    "    \n",
    "elif number1 == number2:\n",
    "    print(\"number1 es igual a number2\")\n",
    "# else:\n",
    "#      print(\"Ingrese un valor valido\")"
   ]
  },
  {
   "cell_type": "code",
   "execution_count": 45,
   "id": "363c1970",
   "metadata": {},
   "outputs": [
    {
     "name": "stdout",
     "output_type": "stream",
     "text": [
      "number1 es mayor que number2\n",
      "number1 es mayor que 10\n"
     ]
    }
   ],
   "source": [
    "# condicionales\n",
    "number1 = 14\n",
    "number2 = 12\n",
    "\n",
    "if number1 > number2:\n",
    "    if number1 > 10:\n",
    "        print(\"number1 es mayor que number2\")\n",
    "        print(\"number1 es mayor que 10\")"
   ]
  },
  {
   "cell_type": "code",
   "execution_count": 47,
   "id": "bdc63140",
   "metadata": {},
   "outputs": [
    {
     "name": "stdout",
     "output_type": "stream",
     "text": [
      "number1 es mayor que number2\n",
      "number1 es mayor que 10\n"
     ]
    }
   ],
   "source": [
    "# condicionales\n",
    "number1 = 14\n",
    "number2 = 12\n",
    "\n",
    "if (number1 > number2) and (number1 > 10):\n",
    "    print(\"number1 es mayor que number2\")\n",
    "    print(\"number1 es mayor que 10\")"
   ]
  },
  {
   "cell_type": "code",
   "execution_count": 52,
   "id": "a7c7caaa",
   "metadata": {},
   "outputs": [
    {
     "name": "stdout",
     "output_type": "stream",
     "text": [
      "number1 es mayor que number2\n"
     ]
    }
   ],
   "source": [
    "# condicionales\n",
    "number1 = 14\n",
    "number2 = 12.45\n",
    "\n",
    "if number1 > number2:\n",
    "    if number1 > 10:    \n",
    "        print(\"number1 es mayor que number2\")\n",
    "    else:\n",
    "        print(\"number1 no es mayor que number2\")\n",
    "else:\n",
    "    print(\"number1 no es mayor que number2\")\n",
    "        "
   ]
  },
  {
   "cell_type": "code",
   "execution_count": 48,
   "id": "2f9f8109",
   "metadata": {},
   "outputs": [],
   "source": [
    "# Estruturas de datos\n",
    "# strings\n",
    "name = \"josefino\""
   ]
  },
  {
   "cell_type": "code",
   "execution_count": 49,
   "id": "b325c9fe",
   "metadata": {},
   "outputs": [
    {
     "data": {
      "text/plain": [
       "str"
      ]
     },
     "execution_count": 49,
     "metadata": {},
     "output_type": "execute_result"
    }
   ],
   "source": [
    "type(name)"
   ]
  },
  {
   "cell_type": "code",
   "execution_count": 50,
   "id": "75e69cb1",
   "metadata": {},
   "outputs": [
    {
     "data": {
      "text/plain": [
       "'Josefino'"
      ]
     },
     "execution_count": 50,
     "metadata": {},
     "output_type": "execute_result"
    }
   ],
   "source": [
    "name.capitalize()"
   ]
  },
  {
   "cell_type": "code",
   "execution_count": 51,
   "id": "b7575f7e",
   "metadata": {},
   "outputs": [
    {
     "data": {
      "text/plain": [
       "int"
      ]
     },
     "execution_count": 51,
     "metadata": {},
     "output_type": "execute_result"
    }
   ],
   "source": [
    "type(number1)"
   ]
  },
  {
   "cell_type": "code",
   "execution_count": 53,
   "id": "9bec2f75",
   "metadata": {},
   "outputs": [
    {
     "data": {
      "text/plain": [
       "float"
      ]
     },
     "execution_count": 53,
     "metadata": {},
     "output_type": "execute_result"
    }
   ],
   "source": [
    "type(number2)"
   ]
  },
  {
   "cell_type": "code",
   "execution_count": 54,
   "id": "2418dec2",
   "metadata": {},
   "outputs": [],
   "source": [
    "# listas\n",
    "name_list = [\"jose\", \"javier\", \"josefino\", \"josefina\"]"
   ]
  },
  {
   "cell_type": "code",
   "execution_count": 55,
   "id": "88664a6c",
   "metadata": {},
   "outputs": [],
   "source": [
    "age_list = [20, 30, 40, 50]"
   ]
  },
  {
   "cell_type": "code",
   "execution_count": 56,
   "id": "d13154ce",
   "metadata": {},
   "outputs": [],
   "source": [
    "name_list.append(\"ruperto\")"
   ]
  },
  {
   "cell_type": "code",
   "execution_count": 57,
   "id": "cb364e01",
   "metadata": {},
   "outputs": [
    {
     "data": {
      "text/plain": [
       "['jose', 'javier', 'josefino', 'josefina', 'ruperto']"
      ]
     },
     "execution_count": 57,
     "metadata": {},
     "output_type": "execute_result"
    }
   ],
   "source": [
    "name_list"
   ]
  },
  {
   "cell_type": "code",
   "execution_count": 58,
   "id": "73832c2c",
   "metadata": {},
   "outputs": [],
   "source": [
    "age_list2 = [\n",
    "    23,\n",
    "    32,\n",
    "    45,\n",
    "    50\n",
    "]"
   ]
  },
  {
   "cell_type": "code",
   "execution_count": 59,
   "id": "9ba8cedb",
   "metadata": {},
   "outputs": [
    {
     "data": {
      "text/plain": [
       "['jose', 'javier', 'josefino', 'josefina', 'ruperto']"
      ]
     },
     "execution_count": 59,
     "metadata": {},
     "output_type": "execute_result"
    }
   ],
   "source": [
    "name_list"
   ]
  },
  {
   "cell_type": "code",
   "execution_count": 60,
   "id": "ccab9774",
   "metadata": {},
   "outputs": [
    {
     "data": {
      "text/plain": [
       "'javier'"
      ]
     },
     "execution_count": 60,
     "metadata": {},
     "output_type": "execute_result"
    }
   ],
   "source": [
    "name_list[1]"
   ]
  },
  {
   "cell_type": "code",
   "execution_count": 61,
   "id": "bce93a34",
   "metadata": {},
   "outputs": [
    {
     "data": {
      "text/plain": [
       "'josefina'"
      ]
     },
     "execution_count": 61,
     "metadata": {},
     "output_type": "execute_result"
    }
   ],
   "source": [
    "name_list[3]"
   ]
  },
  {
   "cell_type": "code",
   "execution_count": 62,
   "id": "04c097cc",
   "metadata": {},
   "outputs": [
    {
     "data": {
      "text/plain": [
       "'ruperto'"
      ]
     },
     "execution_count": 62,
     "metadata": {},
     "output_type": "execute_result"
    }
   ],
   "source": [
    "name_list[-1]"
   ]
  },
  {
   "cell_type": "code",
   "execution_count": 63,
   "id": "72f3a3e6",
   "metadata": {},
   "outputs": [
    {
     "data": {
      "text/plain": [
       "'jose'"
      ]
     },
     "execution_count": 63,
     "metadata": {},
     "output_type": "execute_result"
    }
   ],
   "source": [
    "name_list[0]"
   ]
  },
  {
   "cell_type": "code",
   "execution_count": 64,
   "id": "b75e8eb4",
   "metadata": {},
   "outputs": [
    {
     "data": {
      "text/plain": [
       "['jose', 'javier', 'josefino', 'josefina', 'ruperto']"
      ]
     },
     "execution_count": 64,
     "metadata": {},
     "output_type": "execute_result"
    }
   ],
   "source": [
    "name_list"
   ]
  },
  {
   "cell_type": "code",
   "execution_count": 72,
   "id": "a8f62cef",
   "metadata": {},
   "outputs": [
    {
     "data": {
      "text/plain": [
       "['jose', 'javier', 'josefino', 'josefina']"
      ]
     },
     "execution_count": 72,
     "metadata": {},
     "output_type": "execute_result"
    }
   ],
   "source": [
    "# slice de una lista\n",
    "name_list[0:4]"
   ]
  },
  {
   "cell_type": "code",
   "execution_count": 73,
   "id": "19595ed2",
   "metadata": {},
   "outputs": [
    {
     "data": {
      "text/plain": [
       "5"
      ]
     },
     "execution_count": 73,
     "metadata": {},
     "output_type": "execute_result"
    }
   ],
   "source": [
    "len(name_list)"
   ]
  },
  {
   "cell_type": "code",
   "execution_count": 77,
   "id": "f57ac233",
   "metadata": {},
   "outputs": [
    {
     "name": "stdout",
     "output_type": "stream",
     "text": [
      "jose\n",
      "javier\n",
      "josefino\n",
      "josefina\n",
      "ruperto\n"
     ]
    }
   ],
   "source": [
    "# ciclos finitos\n",
    "for name in name_list:\n",
    "    print(name)"
   ]
  },
  {
   "cell_type": "code",
   "execution_count": 79,
   "id": "73df6a88",
   "metadata": {},
   "outputs": [
    {
     "name": "stdout",
     "output_type": "stream",
     "text": [
      "4\n"
     ]
    }
   ],
   "source": [
    "# ciclos finitos\n",
    "for name in name_list:\n",
    "    if name == \"ruperto\":\n",
    "        # imprime la posicion de la lista\n",
    "        print(name_list.index(name))\n",
    "        "
   ]
  },
  {
   "cell_type": "code",
   "execution_count": 87,
   "id": "f6d0dfbc",
   "metadata": {},
   "outputs": [
    {
     "name": "stdout",
     "output_type": "stream",
     "text": [
      "ruperto\n",
      "4\n"
     ]
    }
   ],
   "source": [
    "# recorrido de una lista por indices\n",
    "for item in range(len(name_list)):\n",
    "    if name_list[item] == \"ruperto\":\n",
    "        # imprime la posicion de la lista\n",
    "        print(name_list[item])\n",
    "        print(item)\n"
   ]
  },
  {
   "cell_type": "code",
   "execution_count": 93,
   "id": "fac35126",
   "metadata": {},
   "outputs": [
    {
     "name": "stdout",
     "output_type": "stream",
     "text": [
      "5\n",
      "6\n",
      "7\n",
      "8\n",
      "9\n",
      "10\n"
     ]
    }
   ],
   "source": [
    "# rango de valores con range\n",
    "for i in range(5,11):\n",
    "    print(i)"
   ]
  },
  {
   "cell_type": "markdown",
   "id": "6c23dcf4",
   "metadata": {},
   "source": [
    "### Funciones en python"
   ]
  },
  {
   "cell_type": "code",
   "execution_count": 1,
   "id": "5955e2e5",
   "metadata": {},
   "outputs": [],
   "source": [
    "def saludos():\n",
    "    print(\"Hola\")"
   ]
  },
  {
   "cell_type": "code",
   "execution_count": 2,
   "id": "8aab2117",
   "metadata": {},
   "outputs": [
    {
     "name": "stdout",
     "output_type": "stream",
     "text": [
      "Hola\n"
     ]
    }
   ],
   "source": [
    "saludos()"
   ]
  },
  {
   "cell_type": "code",
   "execution_count": 3,
   "id": "43892e5e",
   "metadata": {},
   "outputs": [],
   "source": [
    "# función que salude a un nombre\n",
    "def saludos(name):\n",
    "    print(f\"Hola {name}\")"
   ]
  },
  {
   "cell_type": "code",
   "execution_count": 4,
   "id": "fa55240d",
   "metadata": {},
   "outputs": [
    {
     "name": "stdout",
     "output_type": "stream",
     "text": [
      "Hola josefino\n"
     ]
    }
   ],
   "source": [
    "saludos(\"josefino\")"
   ]
  },
  {
   "cell_type": "code",
   "execution_count": null,
   "id": "86b1a6fc",
   "metadata": {},
   "outputs": [],
   "source": [
    "# función que sumur dos números\n",
    "def suma(number1, number2):\n",
    "    return number1 + number2"
   ]
  },
  {
   "cell_type": "code",
   "execution_count": null,
   "id": "8dc26bd8",
   "metadata": {},
   "outputs": [
    {
     "data": {
      "text/plain": [
       "5"
      ]
     },
     "execution_count": 6,
     "metadata": {},
     "output_type": "execute_result"
    }
   ],
   "source": [
    "suma(2, 3)"
   ]
  },
  {
   "cell_type": "code",
   "execution_count": 7,
   "id": "843c313e",
   "metadata": {},
   "outputs": [],
   "source": [
    "# función para calcular la altura de un triángulo\n",
    "def area_triangulo(base, altura):\n",
    "    return (base * altura) / 2"
   ]
  },
  {
   "cell_type": "code",
   "execution_count": 8,
   "id": "877d875a",
   "metadata": {},
   "outputs": [
    {
     "data": {
      "text/plain": [
       "3.0"
      ]
     },
     "execution_count": 8,
     "metadata": {},
     "output_type": "execute_result"
    }
   ],
   "source": [
    "area_triangulo(2, 3)"
   ]
  },
  {
   "cell_type": "code",
   "execution_count": 9,
   "id": "4d78351a",
   "metadata": {},
   "outputs": [
    {
     "data": {
      "text/plain": [
       "3.0"
      ]
     },
     "execution_count": 9,
     "metadata": {},
     "output_type": "execute_result"
    }
   ],
   "source": [
    "area_triangulo(base=3, altura=2)"
   ]
  },
  {
   "cell_type": "code",
   "execution_count": 10,
   "id": "f5f998d9",
   "metadata": {},
   "outputs": [
    {
     "data": {
      "text/plain": [
       "3.0"
      ]
     },
     "execution_count": 10,
     "metadata": {},
     "output_type": "execute_result"
    }
   ],
   "source": [
    "area_triangulo(altura=2, base=3)"
   ]
  },
  {
   "cell_type": "code",
   "execution_count": 11,
   "id": "0a3e0d96",
   "metadata": {},
   "outputs": [],
   "source": [
    "# función con argumentos por defecto    \n",
    "def area_triangulo(base=2, altura=3):\n",
    "    return (base * altura) / 2"
   ]
  },
  {
   "cell_type": "code",
   "execution_count": 16,
   "id": "181e4d85",
   "metadata": {},
   "outputs": [
    {
     "data": {
      "text/plain": [
       "7.5"
      ]
     },
     "execution_count": 16,
     "metadata": {},
     "output_type": "execute_result"
    }
   ],
   "source": [
    "area_triangulo(5,3)"
   ]
  },
  {
   "cell_type": "code",
   "execution_count": 17,
   "id": "c9f560e4",
   "metadata": {},
   "outputs": [],
   "source": [
    "# documentación de una función\n",
    "def area_triangulo3(base=2, altura=3):\n",
    "    \"\"\"\n",
    "    Esta función calcula el área de un triángulo\n",
    "    :param base: base del triángulo\n",
    "    :param altura: altura del triángulo\n",
    "    :return: área del triángulo\n",
    "    \"\"\"\n",
    "    return (base * altura) / 2"
   ]
  },
  {
   "cell_type": "code",
   "execution_count": null,
   "id": "3b1308a0",
   "metadata": {},
   "outputs": [],
   "source": [
    "area_triangulo3()"
   ]
  },
  {
   "cell_type": "code",
   "execution_count": 18,
   "id": "449b4f65",
   "metadata": {},
   "outputs": [],
   "source": [
    "# documentación de una función\n",
    "def area_triangulo4(base:float, altura:float) -> float:\n",
    "    \"\"\"\n",
    "    Esta función calcula el área de un triángulo\n",
    "    :param base: base del triángulo float o int\n",
    "    :param altura: altura del triángulo float o int\n",
    "    :return: área del triángulo float\n",
    "    \"\"\"\n",
    "    return (base * altura) / 2"
   ]
  },
  {
   "cell_type": "code",
   "execution_count": null,
   "id": "60862832",
   "metadata": {},
   "outputs": [],
   "source": []
  },
  {
   "cell_type": "code",
   "execution_count": 19,
   "id": "901984a7",
   "metadata": {},
   "outputs": [
    {
     "data": {
      "text/plain": [
       "3.0"
      ]
     },
     "execution_count": 19,
     "metadata": {},
     "output_type": "execute_result"
    }
   ],
   "source": [
    "area_triangulo4(2,3)"
   ]
  },
  {
   "cell_type": "code",
   "execution_count": 22,
   "id": "76ee2e81",
   "metadata": {},
   "outputs": [
    {
     "data": {
      "text/plain": [
       "4.2"
      ]
     },
     "execution_count": 22,
     "metadata": {},
     "output_type": "execute_result"
    }
   ],
   "source": [
    "area_triangulo4(2.4,3.5)"
   ]
  },
  {
   "cell_type": "code",
   "execution_count": 25,
   "id": "9451c4a8",
   "metadata": {},
   "outputs": [
    {
     "data": {
      "text/plain": [
       "4.2"
      ]
     },
     "execution_count": 25,
     "metadata": {},
     "output_type": "execute_result"
    }
   ],
   "source": [
    "area_triangulo4(altura=3.5, base=2.4)"
   ]
  },
  {
   "cell_type": "code",
   "execution_count": null,
   "id": "07fb12dd",
   "metadata": {},
   "outputs": [],
   "source": []
  }
 ],
 "metadata": {
  "kernelspec": {
   "display_name": "Python 3",
   "language": "python",
   "name": "python3"
  },
  "language_info": {
   "codemirror_mode": {
    "name": "ipython",
    "version": 3
   },
   "file_extension": ".py",
   "mimetype": "text/x-python",
   "name": "python",
   "nbconvert_exporter": "python",
   "pygments_lexer": "ipython3",
   "version": "3.12.6"
  }
 },
 "nbformat": 4,
 "nbformat_minor": 5
}
